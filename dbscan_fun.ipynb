{
 "cells": [
  {
   "cell_type": "markdown",
   "metadata": {},
   "source": [
    "# DBSCAN Fun\n",
    "In this notebook, we'll explore DBSCAN with 2 different datasets. DBSCAN or Density-Based Spatial Clustering of Applications with Noise is a clustering algorithm that finds core samples of high density and expands clusters from them."
   ]
  },
  {
   "cell_type": "code",
   "execution_count": 1,
   "metadata": {
    "collapsed": true
   },
   "outputs": [],
   "source": [
    "import pandas as pd\n",
    "import matplotlib.pyplot as plt\n",
    "\n",
    "from sklearn.cluster import DBSCAN\n",
    "from sklearn.preprocessing import StandardScaler\n",
    "from sklearn.model_selection import train_test_split, GridSearchCV\n",
    "from sklearn import metrics\n",
    "from sklearn.datasets import make_circles\n",
    "\n",
    "%matplotlib inline"
   ]
  },
  {
   "cell_type": "markdown",
   "metadata": {},
   "source": [
    "## NHL Data"
   ]
  },
  {
   "cell_type": "code",
   "execution_count": 2,
   "metadata": {},
   "outputs": [
    {
     "name": "stdout",
     "output_type": "stream",
     "text": [
      "(90, 28)\n"
     ]
    },
    {
     "data": {
      "text/html": [
       "<div>\n",
       "<style>\n",
       "    .dataframe thead tr:only-child th {\n",
       "        text-align: right;\n",
       "    }\n",
       "\n",
       "    .dataframe thead th {\n",
       "        text-align: left;\n",
       "    }\n",
       "\n",
       "    .dataframe tbody tr th {\n",
       "        vertical-align: top;\n",
       "    }\n",
       "</style>\n",
       "<table border=\"1\" class=\"dataframe\">\n",
       "  <thead>\n",
       "    <tr style=\"text-align: right;\">\n",
       "      <th></th>\n",
       "      <th>Team</th>\n",
       "      <th>PTS</th>\n",
       "      <th>Rank</th>\n",
       "      <th>TOI</th>\n",
       "      <th>GF</th>\n",
       "      <th>GA</th>\n",
       "      <th>GF60</th>\n",
       "      <th>GA60</th>\n",
       "      <th>GF%</th>\n",
       "      <th>SF</th>\n",
       "      <th>...</th>\n",
       "      <th>FF%</th>\n",
       "      <th>CF</th>\n",
       "      <th>CA</th>\n",
       "      <th>CF60</th>\n",
       "      <th>CA60</th>\n",
       "      <th>CF%</th>\n",
       "      <th>Sh%</th>\n",
       "      <th>Sv%</th>\n",
       "      <th>PDO</th>\n",
       "      <th>PIM</th>\n",
       "    </tr>\n",
       "  </thead>\n",
       "  <tbody>\n",
       "    <tr>\n",
       "      <th>0</th>\n",
       "      <td>Washington10</td>\n",
       "      <td>121</td>\n",
       "      <td>1</td>\n",
       "      <td>2001:52:00</td>\n",
       "      <td>115</td>\n",
       "      <td>73</td>\n",
       "      <td>3.45</td>\n",
       "      <td>2.19</td>\n",
       "      <td>61.2</td>\n",
       "      <td>1112</td>\n",
       "      <td>...</td>\n",
       "      <td>51.3</td>\n",
       "      <td>2138</td>\n",
       "      <td>1935</td>\n",
       "      <td>64.1</td>\n",
       "      <td>58.0</td>\n",
       "      <td>52.5</td>\n",
       "      <td>10.34</td>\n",
       "      <td>93.03</td>\n",
       "      <td>1034</td>\n",
       "      <td>1269</td>\n",
       "    </tr>\n",
       "    <tr>\n",
       "      <th>1</th>\n",
       "      <td>Vancouver11</td>\n",
       "      <td>117</td>\n",
       "      <td>1</td>\n",
       "      <td>2056:14:00</td>\n",
       "      <td>94</td>\n",
       "      <td>72</td>\n",
       "      <td>2.74</td>\n",
       "      <td>2.10</td>\n",
       "      <td>56.6</td>\n",
       "      <td>1143</td>\n",
       "      <td>...</td>\n",
       "      <td>53.1</td>\n",
       "      <td>2144</td>\n",
       "      <td>1870</td>\n",
       "      <td>62.6</td>\n",
       "      <td>54.6</td>\n",
       "      <td>53.4</td>\n",
       "      <td>8.22</td>\n",
       "      <td>93.16</td>\n",
       "      <td>1014</td>\n",
       "      <td>985</td>\n",
       "    </tr>\n",
       "    <tr>\n",
       "      <th>2</th>\n",
       "      <td>San Jose10</td>\n",
       "      <td>113</td>\n",
       "      <td>1</td>\n",
       "      <td>1929:54:00</td>\n",
       "      <td>90</td>\n",
       "      <td>68</td>\n",
       "      <td>2.80</td>\n",
       "      <td>2.11</td>\n",
       "      <td>57.0</td>\n",
       "      <td>1065</td>\n",
       "      <td>...</td>\n",
       "      <td>50.9</td>\n",
       "      <td>1985</td>\n",
       "      <td>1876</td>\n",
       "      <td>61.7</td>\n",
       "      <td>58.3</td>\n",
       "      <td>51.4</td>\n",
       "      <td>8.45</td>\n",
       "      <td>93.46</td>\n",
       "      <td>1019</td>\n",
       "      <td>1195</td>\n",
       "    </tr>\n",
       "    <tr>\n",
       "      <th>3</th>\n",
       "      <td>Chicago10</td>\n",
       "      <td>112</td>\n",
       "      <td>1</td>\n",
       "      <td>2020:23:00</td>\n",
       "      <td>104</td>\n",
       "      <td>83</td>\n",
       "      <td>3.09</td>\n",
       "      <td>2.46</td>\n",
       "      <td>55.6</td>\n",
       "      <td>1186</td>\n",
       "      <td>...</td>\n",
       "      <td>58.1</td>\n",
       "      <td>2093</td>\n",
       "      <td>1572</td>\n",
       "      <td>62.2</td>\n",
       "      <td>46.7</td>\n",
       "      <td>57.1</td>\n",
       "      <td>8.77</td>\n",
       "      <td>90.44</td>\n",
       "      <td>992</td>\n",
       "      <td>966</td>\n",
       "    </tr>\n",
       "    <tr>\n",
       "      <th>4</th>\n",
       "      <td>Vancouver12</td>\n",
       "      <td>111</td>\n",
       "      <td>1</td>\n",
       "      <td>2052:02:00</td>\n",
       "      <td>86</td>\n",
       "      <td>74</td>\n",
       "      <td>2.51</td>\n",
       "      <td>2.16</td>\n",
       "      <td>53.8</td>\n",
       "      <td>1078</td>\n",
       "      <td>...</td>\n",
       "      <td>51.0</td>\n",
       "      <td>2085</td>\n",
       "      <td>1880</td>\n",
       "      <td>61.0</td>\n",
       "      <td>55.0</td>\n",
       "      <td>52.6</td>\n",
       "      <td>7.98</td>\n",
       "      <td>93.36</td>\n",
       "      <td>1013</td>\n",
       "      <td>1049</td>\n",
       "    </tr>\n",
       "  </tbody>\n",
       "</table>\n",
       "<p>5 rows × 28 columns</p>\n",
       "</div>"
      ],
      "text/plain": [
       "           Team  PTS  Rank         TOI   GF  GA  GF60  GA60   GF%    SF  ...   \\\n",
       "0  Washington10  121     1  2001:52:00  115  73  3.45  2.19  61.2  1112  ...    \n",
       "1   Vancouver11  117     1  2056:14:00   94  72  2.74  2.10  56.6  1143  ...    \n",
       "2    San Jose10  113     1  1929:54:00   90  68  2.80  2.11  57.0  1065  ...    \n",
       "3     Chicago10  112     1  2020:23:00  104  83  3.09  2.46  55.6  1186  ...    \n",
       "4   Vancouver12  111     1  2052:02:00   86  74  2.51  2.16  53.8  1078  ...    \n",
       "\n",
       "    FF%    CF    CA  CF60  CA60   CF%    Sh%    Sv%   PDO   PIM  \n",
       "0  51.3  2138  1935  64.1  58.0  52.5  10.34  93.03  1034  1269  \n",
       "1  53.1  2144  1870  62.6  54.6  53.4   8.22  93.16  1014   985  \n",
       "2  50.9  1985  1876  61.7  58.3  51.4   8.45  93.46  1019  1195  \n",
       "3  58.1  2093  1572  62.2  46.7  57.1   8.77  90.44   992   966  \n",
       "4  51.0  2085  1880  61.0  55.0  52.6   7.98  93.36  1013  1049  \n",
       "\n",
       "[5 rows x 28 columns]"
      ]
     },
     "execution_count": 2,
     "metadata": {},
     "output_type": "execute_result"
    }
   ],
   "source": [
    "# Import data\n",
    "df = pd.read_csv('./datasets//nhl.csv')\n",
    "\n",
    "print(df.shape)\n",
    "df.head()"
   ]
  },
  {
   "cell_type": "markdown",
   "metadata": {},
   "source": [
    "### EDA"
   ]
  },
  {
   "cell_type": "code",
   "execution_count": 3,
   "metadata": {},
   "outputs": [
    {
     "data": {
      "text/plain": [
       "Index(['Team', 'PTS', 'Rank', 'TOI', 'GF', 'GA', 'GF60', 'GA60', 'GF%', 'SF',\n",
       "       'SA', 'SF60', 'SA60', 'SF%', 'FF', 'FA', 'FF60', 'FA60', 'FF%', 'CF',\n",
       "       'CA', 'CF60', 'CA60', 'CF%', 'Sh%', 'Sv%', 'PDO', 'PIM'],\n",
       "      dtype='object')"
      ]
     },
     "execution_count": 3,
     "metadata": {},
     "output_type": "execute_result"
    }
   ],
   "source": [
    "# See all columnsds\n",
    "df.columns"
   ]
  },
  {
   "cell_type": "code",
   "execution_count": 4,
   "metadata": {},
   "outputs": [
    {
     "name": "stdout",
     "output_type": "stream",
     "text": [
      "<class 'pandas.core.frame.DataFrame'>\n",
      "RangeIndex: 90 entries, 0 to 89\n",
      "Data columns (total 28 columns):\n",
      "Team    90 non-null object\n",
      "PTS     90 non-null int64\n",
      "Rank    90 non-null int64\n",
      "TOI     90 non-null object\n",
      "GF      90 non-null int64\n",
      "GA      90 non-null int64\n",
      "GF60    90 non-null float64\n",
      "GA60    90 non-null float64\n",
      "GF%     90 non-null float64\n",
      "SF      90 non-null int64\n",
      "SA      90 non-null int64\n",
      "SF60    90 non-null float64\n",
      "SA60    90 non-null float64\n",
      "SF%     90 non-null float64\n",
      "FF      90 non-null int64\n",
      "FA      90 non-null int64\n",
      "FF60    90 non-null float64\n",
      "FA60    90 non-null float64\n",
      "FF%     90 non-null float64\n",
      "CF      90 non-null int64\n",
      "CA      90 non-null int64\n",
      "CF60    90 non-null float64\n",
      "CA60    90 non-null float64\n",
      "CF%     90 non-null float64\n",
      "Sh%     90 non-null float64\n",
      "Sv%     90 non-null float64\n",
      "PDO     90 non-null int64\n",
      "PIM     90 non-null int64\n",
      "dtypes: float64(14), int64(12), object(2)\n",
      "memory usage: 19.8+ KB\n"
     ]
    }
   ],
   "source": [
    "# Check for Nans and datatypes\n",
    "df.info()"
   ]
  },
  {
   "cell_type": "markdown",
   "metadata": {},
   "source": [
    "No apparent Nans and 2 object columns, 'Team' and 'TOI'. We'll exclude these columns the first time around. <br/><br/>\n",
    "We'll make our target 'Rank'."
   ]
  },
  {
   "cell_type": "code",
   "execution_count": 5,
   "metadata": {
    "collapsed": true
   },
   "outputs": [],
   "source": [
    "# Set up feature matrix and target vector\n",
    "X = df.drop(['Rank', 'TOI', 'Team'], axis=1)\n",
    "y = df['Rank']\n",
    "\n",
    "# Train test split\n",
    "X_train, X_test, y_train, y_test = train_test_split(X, y, test_size=0.2, \\\n",
    "                                                   random_state=1337)\n",
    "\n",
    "# Store feature column names\n",
    "X_cols = X_train.columns\n",
    "\n",
    "# Scale features\n",
    "ss = StandardScaler()\n",
    "X_train = ss.fit_transform(X_train)\n",
    "X_test = ss.transform(X_test)\n",
    "\n",
    "# Create df from scaled X_train array\n",
    "X_train_df = pd.DataFrame(X_train, columns=[X_cols])"
   ]
  },
  {
   "cell_type": "code",
   "execution_count": 6,
   "metadata": {},
   "outputs": [
    {
     "data": {
      "text/plain": [
       "3    0.344444\n",
       "2    0.333333\n",
       "1    0.322222\n",
       "Name: Rank, dtype: float64"
      ]
     },
     "execution_count": 6,
     "metadata": {},
     "output_type": "execute_result"
    }
   ],
   "source": [
    "# See distribution of target\n",
    "y.value_counts()/len(y)"
   ]
  },
  {
   "cell_type": "code",
   "execution_count": 7,
   "metadata": {},
   "outputs": [
    {
     "data": {
      "image/png": "[encoded data removed]",
      "text/plain": [
       "<matplotlib.figure.Figure at 0x114bc2630>"
      ]
     },
     "metadata": {},
     "output_type": "display_data"
    },
    {
     "data": {
      "image/png": "[encoded data removed]",
      "text/plain": [
       "<matplotlib.figure.Figure at 0x114bf2b00>"
      ]
     },
     "metadata": {},
     "output_type": "display_data"
    }
   ],
   "source": [
    "# Make a few scatter plots to see get an idea of clusters\n",
    "plt.scatter(X_train_df['GA'], X_train_df['GF'])\n",
    "plt.xlabel('Goals Against')\n",
    "plt.ylabel('Goals For')\n",
    "plt.show()\n",
    "\n",
    "plt.scatter(X_train_df['PTS'], X_train_df['GA'])\n",
    "plt.xlabel('Points')\n",
    "plt.ylabel('Goals Against')\n",
    "plt.show()"
   ]
  },
  {
   "cell_type": "markdown",
   "metadata": {},
   "source": [
    "Just with these plots it doesn't look promising. Let's make a model to see how it performs."
   ]
  },
  {
   "cell_type": "markdown",
   "metadata": {},
   "source": [
    "### Modeling"
   ]
  },
  {
   "cell_type": "code",
   "execution_count": 8,
   "metadata": {},
   "outputs": [
    {
     "data": {
      "text/plain": [
       "DBSCAN(algorithm='auto', eps=3, leaf_size=30, metric='euclidean',\n",
       "    min_samples=3, n_jobs=1, p=None)"
      ]
     },
     "execution_count": 8,
     "metadata": {},
     "output_type": "execute_result"
    }
   ],
   "source": [
    "# Instantiate and fit dbscan\n",
    "dbscan = DBSCAN(eps=3, min_samples=3)\n",
    "dbscan.fit(X_train)\n",
    "\n",
    "# 'eps' is the max distance between 2 samples in order for them to be\n",
    "# consdiered a seperate cluster\n",
    "# 'min_samples' is the min number of samples required for a cluster to\n",
    "# be considered a cluster"
   ]
  },
  {
   "cell_type": "code",
   "execution_count": 9,
   "metadata": {
    "scrolled": true
   },
   "outputs": [
    {
     "name": "stdout",
     "output_type": "stream",
     "text": [
      "[ 0 -1 -1 -1  0  3 -1  0 -1 -1  1 -1  0 -1  2  0 -1  2  0 -1 -1 -1 -1 -1  2\n",
      " -1  0 -1  0 -1 -1  0  0 -1  0 -1  0 -1 -1 -1  0  3  0 -1  2 -1  1 -1 -1 -1\n",
      "  0 -1  0 -1  0 -1 -1  0  0  3 -1 -1  0 -1  0  2  1  2  0 -1 -1 -1]\n"
     ]
    }
   ],
   "source": [
    "labels = dbscan.labels_\n",
    "print(labels)\n",
    "\n",
    "# '-1' are observations that did not make it into a DB qualified cluster."
   ]
  },
  {
   "cell_type": "code",
   "execution_count": 10,
   "metadata": {},
   "outputs": [
    {
     "name": "stdout",
     "output_type": "stream",
     "text": [
      "[-1 -1 -1 -1  0 -1 -1 -1 -1 -1 -1 -1 -1 -1 -1  1 -1 -1 -1 -1 -1 -1 -1 -1 -1\n",
      " -1  1 -1 -1 -1 -1 -1 -1 -1  1 -1  0 -1 -1 -1 -1 -1 -1 -1  2 -1 -1 -1 -1 -1\n",
      " -1 -1 -1 -1 -1 -1 -1 -1 -1 -1 -1 -1 -1 -1 -1  2 -1 -1 -1 -1 -1 -1]\n",
      "3\n"
     ]
    }
   ],
   "source": [
    "dbscan = DBSCAN(eps=2, min_samples=2)\n",
    "dbscan.fit(X_train)\n",
    "print(dbscan.labels_)\n",
    "print(len(set(dbscan.labels_)) - 1)"
   ]
  },
  {
   "cell_type": "code",
   "execution_count": 11,
   "metadata": {},
   "outputs": [
    {
     "name": "stdout",
     "output_type": "stream",
     "text": [
      "4\n"
     ]
    }
   ],
   "source": [
    "n_clusters = len(set(labels)) - 1 # minus 1 for '-1'\n",
    "print(n_clusters)"
   ]
  },
  {
   "cell_type": "code",
   "execution_count": 12,
   "metadata": {},
   "outputs": [
    {
     "name": "stdout",
     "output_type": "stream",
     "text": [
      "Silhouette Coefficient:  -0.0666259147997\n"
     ]
    }
   ],
   "source": [
    "sil_coef = metrics.silhouette_score(X_train, labels)\n",
    "print('Silhouette Coefficient: ', sil_coef)"
   ]
  },
  {
   "cell_type": "markdown",
   "metadata": {},
   "source": [
    "Just terrible clusters. <br/><br/>\n",
    "DBSCAN may be a poor choice for data that is densely populated in one area. We got some insight from the initial scatter plots, but just in case let's try to tune our DBSCAN model to see if we can get a decent silhouette score."
   ]
  },
  {
   "cell_type": "code",
   "execution_count": 13,
   "metadata": {},
   "outputs": [
    {
     "data": {
      "text/html": [
       "<div>\n",
       "<style>\n",
       "    .dataframe thead tr:only-child th {\n",
       "        text-align: right;\n",
       "    }\n",
       "\n",
       "    .dataframe thead th {\n",
       "        text-align: left;\n",
       "    }\n",
       "\n",
       "    .dataframe tbody tr th {\n",
       "        vertical-align: top;\n",
       "    }\n",
       "</style>\n",
       "<table border=\"1\" class=\"dataframe\">\n",
       "  <thead>\n",
       "    <tr style=\"text-align: right;\">\n",
       "      <th></th>\n",
       "      <th>eps</th>\n",
       "      <th>min_samples</th>\n",
       "      <th>silhouette_score</th>\n",
       "    </tr>\n",
       "  </thead>\n",
       "  <tbody>\n",
       "    <tr>\n",
       "      <th>31</th>\n",
       "      <td>5</td>\n",
       "      <td>8</td>\n",
       "      <td>0.268373</td>\n",
       "    </tr>\n",
       "    <tr>\n",
       "      <th>32</th>\n",
       "      <td>5</td>\n",
       "      <td>9</td>\n",
       "      <td>0.268373</td>\n",
       "    </tr>\n",
       "    <tr>\n",
       "      <th>30</th>\n",
       "      <td>5</td>\n",
       "      <td>7</td>\n",
       "      <td>0.268373</td>\n",
       "    </tr>\n",
       "    <tr>\n",
       "      <th>33</th>\n",
       "      <td>5</td>\n",
       "      <td>10</td>\n",
       "      <td>0.268373</td>\n",
       "    </tr>\n",
       "    <tr>\n",
       "      <th>39</th>\n",
       "      <td>5</td>\n",
       "      <td>16</td>\n",
       "      <td>0.268373</td>\n",
       "    </tr>\n",
       "  </tbody>\n",
       "</table>\n",
       "</div>"
      ],
      "text/plain": [
       "    eps  min_samples  silhouette_score\n",
       "31    5            8          0.268373\n",
       "32    5            9          0.268373\n",
       "30    5            7          0.268373\n",
       "33    5           10          0.268373\n",
       "39    5           16          0.268373"
      ]
     },
     "execution_count": 13,
     "metadata": {},
     "output_type": "execute_result"
    }
   ],
   "source": [
    "# \"Gridserch\" for best silhouette coefficient\n",
    "dbscan_gs = []\n",
    "\n",
    "for eps in range(2, 20):\n",
    "    for min_samples in range(2, 20):\n",
    "        try:\n",
    "            gs = {}\n",
    "            dbscan = DBSCAN(eps=eps, min_samples=min_samples)\n",
    "            dbscan.fit(X_train)\n",
    "            sil_coef = metrics.silhouette_score(X_train, dbscan.labels_)\n",
    "            gs['eps'] = eps\n",
    "            gs['min_samples'] = min_samples\n",
    "            gs['silhouette_score'] = sil_coef\n",
    "            dbscan_gs.append(gs)\n",
    "        except:\n",
    "            continue\n",
    "\n",
    "gs_df = pd.DataFrame(dbscan_gs)\n",
    "gs_df.sort_values('silhouette_score', ascending=False).head()"
   ]
  },
  {
   "cell_type": "markdown",
   "metadata": {},
   "source": [
    "The silhouette score looks to peak ~0.268. Let's evaluate the homegeneity score at eps=5 and min_samples=8."
   ]
  },
  {
   "cell_type": "code",
   "execution_count": 14,
   "metadata": {},
   "outputs": [
    {
     "name": "stdout",
     "output_type": "stream",
     "text": [
      "Homogeneity score: 0.029678340035\n"
     ]
    }
   ],
   "source": [
    "dbscan = DBSCAN(eps=5, min_samples=8)\n",
    "dbscan.fit(X_train)\n",
    "\n",
    "print('Homogeneity score:', metrics.homogeneity_score(y_train, dbscan.labels_))"
   ]
  },
  {
   "cell_type": "markdown",
   "metadata": {},
   "source": [
    "With such a low homogeneity score, our clusters aren't doing a proper job and seperation."
   ]
  },
  {
   "cell_type": "markdown",
   "metadata": {},
   "source": [
    "## 'make_circles'\n",
    "make_circles is a dataset in the scikit learn library where we can create clusters of datapoints in circles and determine how far to seperate them. This is a handy dataset to test out clustering algorithms."
   ]
  },
  {
   "cell_type": "code",
   "execution_count": 15,
   "metadata": {},
   "outputs": [
    {
     "name": "stdout",
     "output_type": "stream",
     "text": [
      "(1000, 2)\n"
     ]
    },
    {
     "data": {
      "text/plain": [
       "array([[ 0.15804298,  0.07298777],\n",
       "       [ 0.95846984,  0.39218566],\n",
       "       [ 0.72358811,  0.53878848],\n",
       "       [-0.16249514, -0.11702255],\n",
       "       [-0.2991255 ,  0.10329024],\n",
       "       [-0.20275334, -0.0525741 ],\n",
       "       [ 0.08096695,  1.07901782],\n",
       "       [ 0.02287376, -0.2481016 ],\n",
       "       [ 0.91875549, -0.447058  ],\n",
       "       [-1.08106076, -0.24393752]])"
      ]
     },
     "execution_count": 15,
     "metadata": {},
     "output_type": "execute_result"
    }
   ],
   "source": [
    "# Import data\n",
    "from sklearn.datasets import make_circles\n",
    "\n",
    "circles_X, circles_y = make_circles(n_samples=1000, random_state=1337, \\\n",
    "                                   noise=0.1, factor=0.2)\n",
    "\n",
    "print(circles_X.shape)\n",
    "\n",
    "# Show top 10 rows\n",
    "circles_X[0:10,:]"
   ]
  },
  {
   "cell_type": "code",
   "execution_count": 16,
   "metadata": {
    "scrolled": true
   },
   "outputs": [
    {
     "data": {
      "text/plain": [
       "<matplotlib.collections.PathCollection at 0x114f302e8>"
      ]
     },
     "execution_count": 16,
     "metadata": {},
     "output_type": "execute_result"
    },
    {
     "data": {
      "image/png": "[encoded data removed]",
      "text/plain": [
       "<matplotlib.figure.Figure at 0x108d2b550>"
      ]
     },
     "metadata": {},
     "output_type": "display_data"
    }
   ],
   "source": [
    "# Plot scatter plot\n",
    "plt.scatter(circles_X[:,0], circles_X[:,1])"
   ]
  },
  {
   "cell_type": "markdown",
   "metadata": {},
   "source": [
    "This dataset in the sklearn library is a perfect clustering problem. We can see 2 very distinct clusters graphically- let's see if we can build a model that can also identify these clusters."
   ]
  },
  {
   "cell_type": "code",
   "execution_count": 17,
   "metadata": {},
   "outputs": [
    {
     "name": "stdout",
     "output_type": "stream",
     "text": [
      "Clusters:  {0}\n"
     ]
    }
   ],
   "source": [
    "# Scale data\n",
    "ss = StandardScaler()\n",
    "Xs = ss.fit_transform(circles_X)\n",
    "\n",
    "dbscan = DBSCAN(eps=3, min_samples=3)\n",
    "dbscan.fit(Xs)\n",
    "\n",
    "print('Clusters: ', set(dbscan.labels_))"
   ]
  },
  {
   "cell_type": "markdown",
   "metadata": {},
   "source": [
    "With eps and min_samples set to 3, we only got 1 cluster. Looking at the plot, the distance between the points in the inner circle and outer circle is quite small- maybe around 0.35. We'll set eps to 0.35 for the second model."
   ]
  },
  {
   "cell_type": "code",
   "execution_count": 18,
   "metadata": {},
   "outputs": [
    {
     "name": "stdout",
     "output_type": "stream",
     "text": [
      "Clusters:  {0, 1}\n"
     ]
    }
   ],
   "source": [
    "dbscan = DBSCAN(eps=0.35, min_samples=3)\n",
    "dbscan.fit(Xs)\n",
    "\n",
    "print('Clusters: ', set(dbscan.labels_))"
   ]
  },
  {
   "cell_type": "markdown",
   "metadata": {},
   "source": [
    "With 2 clusters it looks like it's clustering the way we intended it to. Let's evaluate the homogenity score next."
   ]
  },
  {
   "cell_type": "code",
   "execution_count": 19,
   "metadata": {},
   "outputs": [
    {
     "name": "stdout",
     "output_type": "stream",
     "text": [
      "Homogeneity score: 1.0\n"
     ]
    }
   ],
   "source": [
    "print('Homogeneity score:', metrics.homogeneity_score(circles_y, dbscan.labels_))"
   ]
  },
  {
   "cell_type": "markdown",
   "metadata": {},
   "source": [
    "With a homogeneity score of 1, we have perfect seperation between the clusters."
   ]
  },
  {
   "cell_type": "code",
   "execution_count": null,
   "metadata": {
    "collapsed": true
   },
   "outputs": [],
   "source": []
  },
  {
   "cell_type": "code",
   "execution_count": null,
   "metadata": {
    "collapsed": true
   },
   "outputs": [],
   "source": []
  },
  {
   "cell_type": "code",
   "execution_count": null,
   "metadata": {
    "collapsed": true
   },
   "outputs": [],
   "source": []
  }
 ],
 "metadata": {
  "kernelspec": {
   "display_name": "Python 3",
   "language": "python",
   "name": "python3"
  },
  "language_info": {
   "codemirror_mode": {
    "name": "ipython",
    "version": 3
   },
   "file_extension": ".py",
   "mimetype": "text/x-python",
   "name": "python",
   "nbconvert_exporter": "python",
   "pygments_lexer": "ipython3",
   "version": "3.6.1"
  }
 },
 "nbformat": 4,
 "nbformat_minor": 2
}
